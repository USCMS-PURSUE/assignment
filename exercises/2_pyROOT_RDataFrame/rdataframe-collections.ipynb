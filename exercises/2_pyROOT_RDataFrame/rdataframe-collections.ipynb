{
 "cells": [
  {
   "cell_type": "markdown",
   "id": "41ca9b9e",
   "metadata": {},
   "source": [
    "# Exercise: RDataFrame and collections"
   ]
  },
  {
   "cell_type": "markdown",
   "id": "c5657ad2",
   "metadata": {},
   "source": [
    "The same dataset used in the previous exercise (`TTree` \"dataset\" in file `../data/example_file.root`) contains two vector columns `vec1` and `vec2`.<br>\n",
    "The elements of `vec1` are distributed as a mixture of Gaussians, plus background noise.<br>\n",
    "To remove the background noise, select the elements of `vec1` for which the square of the corresponding elements in `vec2` is less than 0.1.\n",
    "\n",
    "Where are the peaks of this mixture of Gaussians?\n",
    "\n",
    "### Useful links\n",
    "\n",
    "- [RDataFrame: working with collections](https://root.cern/doc/master/classROOT_1_1RDataFrame.html#collections)\n",
    "- [RVec reference](https://root.cern/doc/master/classROOT_1_1VecOps_1_1RVec.html)"
   ]
  },
  {
   "cell_type": "code",
   "execution_count": 2,
   "id": "4dea17f9",
   "metadata": {
    "scrolled": true
   },
   "outputs": [
    {
     "name": "stdout",
     "output_type": "stream",
     "text": [
      "Welcome to JupyROOT 6.30/07\n"
     ]
    }
   ],
   "source": [
    "import ROOT"
   ]
  },
  {
   "cell_type": "code",
   "execution_count": 11,
   "id": "c738bc35",
   "metadata": {},
   "outputs": [
    {
     "name": "stdout",
     "output_type": "stream",
     "text": [
      "****************************************\n",
      "Minimizer is Minuit2 / Migrad\n",
      "Chi2                      =      52.3377\n",
      "NDf                       =           30\n",
      "Edm                       =  2.37446e-06\n",
      "NCalls                    =           61\n",
      "Constant                  =      33.1519   +/-   1.77329     \n",
      "Mean                      =     -2.01751   +/-   0.0476495   \n",
      "Sigma                     =      1.04706   +/-   0.0350916    \t (limited)\n",
      "****************************************\n",
      "Minimizer is Minuit2 / Migrad\n",
      "Chi2                      =      39.7756\n",
      "NDf                       =           27\n",
      "Edm                       =  6.44334e-08\n",
      "NCalls                    =           60\n",
      "Constant                  =      63.0551   +/-   2.61147     \n",
      "Mean                      =      3.01904   +/-   0.0333783   \n",
      "Sigma                     =     0.959862   +/-   0.0259321    \t (limited)\n"
     ]
    },
    {
     "name": "stderr",
     "output_type": "stream",
     "text": [
      "Warning in <TCanvas::Constructor>: Deleting canvas with same name: c\n"
     ]
    },
    {
     "data": {
      "image/png": "[encoded data removed]",
      "text/plain": [
       "<IPython.core.display.Image object>"
      ]
     },
     "metadata": {},
     "output_type": "display_data"
    }
   ],
   "source": [
    "df = ROOT.RDataFrame(\"dataset\", \"example_file.root\")\n",
    "\n",
    "data = df.Define(\"vec3\", \"vec1[vec2*vec2 < .1]\")\n",
    "\n",
    "c= ROOT.TCanvas(\"c\", \"canvas\", 800, 600)\n",
    "h = data.Histo1D((\"vecs\", \"Normal Distribution\", 64, -5., 5.5),\"vec3\")\n",
    "\n",
    "gaus1 = ROOT.TF1(\"Gaus1\",\"gaus\",-5, .5)\n",
    "gaus2 = ROOT.TF1(\"Gaus2\",\"gaus\",.5, 5.5)\n",
    "\n",
    "h.Fit(gaus1, \"R\")\n",
    "h.Fit(gaus2, \"R+\")\n",
    "\n",
    "h.Draw()\n",
    "\n",
    "c.Draw()"
   ]
  },
  {
   "cell_type": "code",
   "execution_count": null,
   "id": "d4871ebd",
   "metadata": {},
   "outputs": [],
   "source": []
  }
 ],
 "metadata": {
  "kernelspec": {
   "display_name": "Python 3 (ipykernel)",
   "language": "python",
   "name": "python3"
  },
  "language_info": {
   "codemirror_mode": {
    "name": "ipython",
    "version": 3
   },
   "file_extension": ".py",
   "mimetype": "text/x-python",
   "name": "python",
   "nbconvert_exporter": "python",
   "pygments_lexer": "ipython3",
   "version": "3.9.14"
  }
 },
 "nbformat": 4,
 "nbformat_minor": 5
}
